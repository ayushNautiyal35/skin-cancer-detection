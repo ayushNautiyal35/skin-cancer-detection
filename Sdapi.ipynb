{
 "cells": [
  {
   "cell_type": "code",
   "execution_count": null,
   "id": "b75ad087",
   "metadata": {},
   "outputs": [],
   "source": [
    "\n",
    "from tkinter import *\n",
    "from PIL import ImageTk,Image\n",
    "from tkinter import messagebox\n",
    "from tkinter import filedialog\n",
    "import numpy as np\n"
   ]
  },
  {
   "cell_type": "code",
   "execution_count": null,
   "id": "31e7c391",
   "metadata": {},
   "outputs": [],
   "source": [
    "from tensorflow import keras\n",
    "model = keras.models.load_model('model.keras')"
   ]
  },
  {
   "cell_type": "code",
   "execution_count": null,
   "id": "babf3ffd",
   "metadata": {},
   "outputs": [],
   "source": [
    "def names(number):\n",
    "    if(number==1):\n",
    "        return 'actinic keratosis'\n",
    "    elif(number==2):\n",
    "        return 'basal cell carcinoma'\n",
    "    elif(number==3):\n",
    "        return 'dermatofibroma'\n",
    "    elif(number==4):\n",
    "        return 'melanoma'\n",
    "    elif(number==5):\n",
    "        return 'nevus'\n",
    "    elif(number==6):\n",
    "        return 'pigmented benign keratosis'\n",
    "    elif(number==7):\n",
    "        return 'seborrheic keratosis'\n",
    "    elif(number==8):\n",
    "        return 'squamous cell carcinoma'\n",
    "    else:\n",
    "        return 'vascular lesion'"
   ]
  },
  {
   "cell_type": "code",
   "execution_count": null,
   "id": "dccfd3d3",
   "metadata": {},
   "outputs": [],
   "source": [
    "top=Toplevel()\n",
    "top.filename=filedialog.askopenfilename(initialdir=\"C:/Users/ayush/OneDrive/Pictures\",title=\"Select a file\",filetypes=((\"jpeg files\",\"*.jpg\"),(\"all files\",\"*.\")))\n",
    "img = Image.open(top.filename)\n",
    "x = np.array(img.resize((224,224)))\n",
    "x = x.reshape(1,224,224,3)\n",
    "res = model.predict_on_batch(x)\n",
    "classification = np.where(res == np.amax(res))[1][0]\n",
    "frame=Frame(top,width=800,height=800)\n",
    "l2=Label(top,text=str(\"it is :\" + names(classification)))\n",
    "l2.configure(bg='black',fg='white')\n",
    "l2.pack()\n",
    "root=Tk()   "
   ]
  },
  {
   "cell_type": "code",
   "execution_count": null,
   "id": "21eb2415",
   "metadata": {},
   "outputs": [],
   "source": [
    "print(names(classification))"
   ]
  },
  {
   "cell_type": "code",
   "execution_count": null,
   "id": "94559e01",
   "metadata": {},
   "outputs": [],
   "source": []
  }
 ],
 "metadata": {
  "kernelspec": {
   "display_name": "Python 3 (ipykernel)",
   "language": "python",
   "name": "python3"
  },
  "language_info": {
   "codemirror_mode": {
    "name": "ipython",
    "version": 3
   },
   "file_extension": ".py",
   "mimetype": "text/x-python",
   "name": "python",
   "nbconvert_exporter": "python",
   "pygments_lexer": "ipython3",
   "version": "3.11.5"
  }
 },
 "nbformat": 4,
 "nbformat_minor": 5
}
