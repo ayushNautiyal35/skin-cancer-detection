{
 "cells": [
  {
   "cell_type": "code",
   "execution_count": 29,
   "id": "b75ad087",
   "metadata": {},
   "outputs": [],
   "source": [
    "\n",
    "from tkinter import *\n",
    "from PIL import ImageTk,Image\n",
    "from tkinter import messagebox\n",
    "from tkinter import filedialog\n",
    "import numpy as np\n"
   ]
  },
  {
   "cell_type": "code",
   "execution_count": 30,
   "id": "31e7c391",
   "metadata": {},
   "outputs": [],
   "source": [
    "from tensorflow import keras\n",
    "model = keras.models.load_model('model.keras')"
   ]
  },
  {
   "cell_type": "code",
   "execution_count": 34,
   "id": "f72a7b80",
   "metadata": {},
  
   "source": [
    "img_path='melanoma.jpg'\n",
    "img=keras.utils.load_img(img_path,target_size=(224,224))\n",
    "x=keras.utils.img_to_array(img)\n",
    "x=np.expand_dims(x,axis=0)\n",
    "x=keras.applications.resnet50.preprocess_input(x)\n",
    "preds=model.predict(x)\n"
   ]
  },
  {
   "cell_type": "code",
   "execution_count": 35,
   "id": "5a776eaa",
   "metadata": {},
  
   "source": [
    "def decode_prediction(prediction, class_labels):\n",
    "    # Assuming prediction is a 2D array with shape (1, 9)\n",
    "    # Get the index of the maximum value in the prediction array\n",
    "    predicted_class_index = prediction.argmax(axis=1)\n",
    "\n",
    "    # Get the corresponding class label\n",
    "    predicted_class_label = class_labels[predicted_class_index[0]]\n",
    "\n",
    "    return predicted_class_label\n",
    "class_labels = [\"actinic keratosis\", \"basal cell carcinoma\", \"dermatofibroma\", \"melanoma\", \"nevus\", \"pigmented benign keratosis\", \"seborrheic keratosis\", \"squamous cell carcinoma\", \"vascular lesion\"]\n",
    "\n",
    "#decoded_class = decode_prediction(preds, class_labels)\n",
    "#print(\"Predicted class:\", decoded_class)"
   ]
  },
  {
   "cell_type": "code",
   "execution_count": null,
   "id": "babf3ffd",
   "metadata": {},
   "outputs": [],
   "source": []
  },
  {
   "cell_type": "code",
   "execution_count": 38,
   "id": "dccfd3d3",
   "metadata": {},
  
   "source": [
    "top=Toplevel()\n",
    "top.filename=filedialog.askopenfilename(initialdir=\"C:/Users/ayush/OneDrive/Pictures\",title=\"Select a file\",filetypes=((\"jpeg files\",\"*.jpg\"),(\"all files\",\"*.\")))\n",
    "img = Image.open(top.filename)\n",
    "x = np.array(img.resize((224,224)))\n",
    "x = x.reshape(1,224,224,3)\n",
    "res = model.predict(x)\n",
    "\n",
    "decoded_class = decode_prediction(res, class_labels)\n",
    "\n",
    "frame=Frame(top,width=800,height=800)\n",
    "l2=Label(top,text=str(\"it is :\" + decoded_class))\n",
    "l2.configure(bg='black',fg='white')\n",
    "l2.pack()\n",
    "root=Tk()   "
   ]
  },
  {
   "cell_type": "code",
   "execution_count": null,
   "id": "21eb2415",
   "metadata": {},
   "outputs": [],
   "source": []
  },
  {
   "cell_type": "code",
   "execution_count": null,
   "id": "94559e01",
   "metadata": {},
   "outputs": [],
   "source": []
  }
 ],
 "metadata": {
  "kernelspec": {
   "display_name": "Python 3 (ipykernel)",
   "language": "python",
   "name": "python3"
  },
  "language_info": {
   "codemirror_mode": {
    "name": "ipython",
    "version": 3
   },
   "file_extension": ".py",
   "mimetype": "text/x-python",
   "name": "python",
   "nbconvert_exporter": "python",
   "pygments_lexer": "ipython3",
   "version": "3.11.5"
  }
 },
 "nbformat": 4,
 "nbformat_minor": 5
}
