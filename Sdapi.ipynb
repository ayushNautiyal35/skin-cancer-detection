{
 "cells": [
  {
   "cell_type": "code",
   "execution_count": 29,
   "id": "b75ad087",
   "metadata": {},
   "outputs": [],
   "source": [
    "\n",
    "from tkinter import *\n",
    "from PIL import ImageTk,Image\n",
    "from tkinter import messagebox\n",
    "from tkinter import filedialog\n",
    "import numpy as np\n"
   ]
  },
  {
   "cell_type": "code",
   "execution_count": 30,
   "id": "31e7c391",
   "metadata": {},
   "outputs": [],
   "source": [
    "from tensorflow import keras\n",
    "model = keras.models.load_model('model.keras')"
   ]
  },
  {
   "cell_type": "code",
   "execution_count": 34,
   "id": "f72a7b80",
   "metadata": {},
   "outputs": [
    {
     "name": "stdout",
     "output_type": "stream",
     "text": [
      "1/1 [==============================] - 0s 258ms/step\n"
     ]
    }
   ],
   "source": [
    "img_path='melanoma.jpg'\n",
    "img=keras.utils.load_img(img_path,target_size=(224,224))\n",
    "x=keras.utils.img_to_array(img)\n",
    "x=np.expand_dims(x,axis=0)\n",
    "x=keras.applications.resnet50.preprocess_input(x)\n",
    "preds=model.predict(x)\n"
   ]
  },
  {
   "cell_type": "code",
   "execution_count": 35,
   "id": "5a776eaa",
   "metadata": {},
   "outputs": [
    {
     "name": "stdout",
     "output_type": "stream",
     "text": [
      "Predicted class: nevus\n"
     ]
    }
   ],
   "source": [
    "def decode_prediction(prediction, class_labels):\n",
    "    # Assuming prediction is a 2D array with shape (1, 9)\n",
    "    # Get the index of the maximum value in the prediction array\n",
    "    predicted_class_index = prediction.argmax(axis=1)\n",
    "\n",
    "    # Get the corresponding class label\n",
    "    predicted_class_label = class_labels[predicted_class_index[0]]\n",
    "\n",
    "    return predicted_class_label\n",
    "class_labels = [\"actinic keratosis\", \"basal cell carcinoma\", \"dermatofibroma\", \"melanoma\", \"nevus\", \"pigmented benign keratosis\", \"seborrheic keratosis\", \"squamous cell carcinoma\", \"vascular lesion\"]\n",
    "\n",
    "#decoded_class = decode_prediction(preds, class_labels)\n",
    "#print(\"Predicted class:\", decoded_class)"
   ]
  },
  {
   "cell_type": "code",
   "execution_count": null,
   "id": "babf3ffd",
   "metadata": {},
   "outputs": [],
   "source": []
  },
  {
   "cell_type": "code",
   "execution_count": 38,
   "id": "dccfd3d3",
   "metadata": {},
   "outputs": [
    {
     "ename": "AttributeError",
     "evalue": "'str' object has no attribute 'read'",
     "output_type": "error",
     "traceback": [
      "\u001b[1;31m---------------------------------------------------------------------------\u001b[0m",
      "\u001b[1;31mAttributeError\u001b[0m                            Traceback (most recent call last)",
      "File \u001b[1;32m~\\anaconda3\\Lib\\site-packages\\PIL\\Image.py:3231\u001b[0m, in \u001b[0;36mopen\u001b[1;34m(fp, mode, formats)\u001b[0m\n\u001b[0;32m   3230\u001b[0m \u001b[38;5;28;01mtry\u001b[39;00m:\n\u001b[1;32m-> 3231\u001b[0m     fp\u001b[38;5;241m.\u001b[39mseek(\u001b[38;5;241m0\u001b[39m)\n\u001b[0;32m   3232\u001b[0m \u001b[38;5;28;01mexcept\u001b[39;00m (\u001b[38;5;167;01mAttributeError\u001b[39;00m, io\u001b[38;5;241m.\u001b[39mUnsupportedOperation):\n",
      "\u001b[1;31mAttributeError\u001b[0m: 'str' object has no attribute 'seek'",
      "\nDuring handling of the above exception, another exception occurred:\n",
      "\u001b[1;31mAttributeError\u001b[0m                            Traceback (most recent call last)",
      "Cell \u001b[1;32mIn[38], line 3\u001b[0m\n\u001b[0;32m      1\u001b[0m top\u001b[38;5;241m=\u001b[39mToplevel()\n\u001b[0;32m      2\u001b[0m top\u001b[38;5;241m.\u001b[39mfilename\u001b[38;5;241m=\u001b[39mfiledialog\u001b[38;5;241m.\u001b[39maskopenfilename(initialdir\u001b[38;5;241m=\u001b[39m\u001b[38;5;124m\"\u001b[39m\u001b[38;5;124mC:/Users/ayush/OneDrive/Pictures\u001b[39m\u001b[38;5;124m\"\u001b[39m,title\u001b[38;5;241m=\u001b[39m\u001b[38;5;124m\"\u001b[39m\u001b[38;5;124mSelect a file\u001b[39m\u001b[38;5;124m\"\u001b[39m,filetypes\u001b[38;5;241m=\u001b[39m((\u001b[38;5;124m\"\u001b[39m\u001b[38;5;124mjpeg files\u001b[39m\u001b[38;5;124m\"\u001b[39m,\u001b[38;5;124m\"\u001b[39m\u001b[38;5;124m*.jpg\u001b[39m\u001b[38;5;124m\"\u001b[39m),(\u001b[38;5;124m\"\u001b[39m\u001b[38;5;124mall files\u001b[39m\u001b[38;5;124m\"\u001b[39m,\u001b[38;5;124m\"\u001b[39m\u001b[38;5;124m*.\u001b[39m\u001b[38;5;124m\"\u001b[39m)))\n\u001b[1;32m----> 3\u001b[0m img \u001b[38;5;241m=\u001b[39m Image\u001b[38;5;241m.\u001b[39mopen(top\u001b[38;5;241m.\u001b[39mfilename)\n\u001b[0;32m      4\u001b[0m x \u001b[38;5;241m=\u001b[39m np\u001b[38;5;241m.\u001b[39marray(img\u001b[38;5;241m.\u001b[39mresize((\u001b[38;5;241m224\u001b[39m,\u001b[38;5;241m224\u001b[39m)))\n\u001b[0;32m      5\u001b[0m x \u001b[38;5;241m=\u001b[39m x\u001b[38;5;241m.\u001b[39mreshape(\u001b[38;5;241m1\u001b[39m,\u001b[38;5;241m224\u001b[39m,\u001b[38;5;241m224\u001b[39m,\u001b[38;5;241m3\u001b[39m)\n",
      "File \u001b[1;32m~\\anaconda3\\Lib\\site-packages\\PIL\\Image.py:3233\u001b[0m, in \u001b[0;36mopen\u001b[1;34m(fp, mode, formats)\u001b[0m\n\u001b[0;32m   3231\u001b[0m     fp\u001b[38;5;241m.\u001b[39mseek(\u001b[38;5;241m0\u001b[39m)\n\u001b[0;32m   3232\u001b[0m \u001b[38;5;28;01mexcept\u001b[39;00m (\u001b[38;5;167;01mAttributeError\u001b[39;00m, io\u001b[38;5;241m.\u001b[39mUnsupportedOperation):\n\u001b[1;32m-> 3233\u001b[0m     fp \u001b[38;5;241m=\u001b[39m io\u001b[38;5;241m.\u001b[39mBytesIO(fp\u001b[38;5;241m.\u001b[39mread())\n\u001b[0;32m   3234\u001b[0m     exclusive_fp \u001b[38;5;241m=\u001b[39m \u001b[38;5;28;01mTrue\u001b[39;00m\n\u001b[0;32m   3236\u001b[0m prefix \u001b[38;5;241m=\u001b[39m fp\u001b[38;5;241m.\u001b[39mread(\u001b[38;5;241m16\u001b[39m)\n",
      "\u001b[1;31mAttributeError\u001b[0m: 'str' object has no attribute 'read'"
     ]
    }
   ],
   "source": [
    "top=Toplevel()\n",
    "top.filename=filedialog.askopenfilename(initialdir=\"C:/Users/ayush/OneDrive/Pictures\",title=\"Select a file\",filetypes=((\"jpeg files\",\"*.jpg\"),(\"all files\",\"*.\")))\n",
    "img = Image.open(top.filename)\n",
    "x = np.array(img.resize((224,224)))\n",
    "x = x.reshape(1,224,224,3)\n",
    "res = model.predict(x)\n",
    "\n",
    "decoded_class = decode_prediction(res, class_labels)\n",
    "\n",
    "frame=Frame(top,width=800,height=800)\n",
    "l2=Label(top,text=str(\"it is :\" + decoded_class))\n",
    "l2.configure(bg='black',fg='white')\n",
    "l2.pack()\n",
    "root=Tk()   "
   ]
  },
  {
   "cell_type": "code",
   "execution_count": null,
   "id": "21eb2415",
   "metadata": {},
   "outputs": [],
   "source": []
  },
  {
   "cell_type": "code",
   "execution_count": null,
   "id": "94559e01",
   "metadata": {},
   "outputs": [],
   "source": []
  }
 ],
 "metadata": {
  "kernelspec": {
   "display_name": "Python 3 (ipykernel)",
   "language": "python",
   "name": "python3"
  },
  "language_info": {
   "codemirror_mode": {
    "name": "ipython",
    "version": 3
   },
   "file_extension": ".py",
   "mimetype": "text/x-python",
   "name": "python",
   "nbconvert_exporter": "python",
   "pygments_lexer": "ipython3",
   "version": "3.11.5"
  }
 },
 "nbformat": 4,
 "nbformat_minor": 5
}
